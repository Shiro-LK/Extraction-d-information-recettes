{
 "cells": [
  {
   "cell_type": "markdown",
   "metadata": {},
   "source": [
    "# Statistiques"
   ]
  },
  {
   "cell_type": "markdown",
   "metadata": {},
   "source": [
    "## Statistiques générales"
   ]
  },
  {
   "cell_type": "code",
   "execution_count": 83,
   "metadata": {},
   "outputs": [
    {
     "name": "stdout",
     "output_type": "stream",
     "text": [
      "nombre de phrases de requêtes : 487543\n",
      "nombre de mots en moyenne par requete : 12.011313873853178\n",
      "nombre de phrases sur les catégories d'ingrédients : 77\n",
      "nombre de mots en moyenne sur les catégories d'ingrédients : 4.662337662337662\n",
      "nombre de phrases sur les ingrédients : 2284627\n",
      "nombre de mots en moyenne sur les ingrédients : 8.991921219525112\n"
     ]
    }
   ],
   "source": [
    "#Chargement des données d'entraînement\n",
    "import os\n",
    "from __future__ import division\n",
    "import numpy as np\n",
    "\n",
    "ens = \"trn\" #dev, trn ou test\n",
    "\n",
    "ask = \"\"\n",
    "give_cat = \"\"\n",
    "give_ing =\"\"\n",
    "\n",
    "coeff_ask = 0\n",
    "coeff_cat = 0\n",
    "coeff_ing = 0\n",
    "\n",
    "if ens == \"trn\":\n",
    "    file = open(\"generation-projet-trn/ask_for_recipe-trn.txt\", \"r\") \n",
    "    ask = file.read()\n",
    "\n",
    "    file = open(\"generation-projet-trn/give_cat-ingredients-trn.txt\", \"r\")\n",
    "    give_cat = file.read()\n",
    "\n",
    "    file = open(\"generation-projet-trn/give_ingredients-trn.txt\", \"r\")\n",
    "    give_ing = file.read()\n",
    "\n",
    "if ens ==\"dev\":\n",
    "    file = open(\"generation-projet-dev/ask_for_recipe-newP-newV-dev.txt\", \"r\")\n",
    "    ask=file.read()\n",
    "    file = open(\"generation-projet-dev/ask_for_recipe-newP-oldV-dev.txt\", \"r\")\n",
    "    ask=ask+\"\\n\"+file.read()\n",
    "    file = open(\"generation-projet-dev/ask_for_recipe-oldP-newV-dev.txt\", \"r\")\n",
    "    ask=ask+\"\\n\"+file.read()\n",
    "    \n",
    "    file = open(\"generation-projet-dev/give_cat-ingredients-newP-newV-dev.txt\", \"r\")\n",
    "    give_cat = file.read()\n",
    "    file = open(\"generation-projet-dev/give_cat-ingredients-newP-oldV-dev.txt\", \"r\")\n",
    "    give_cat = give_cat+\"\\n\"+file.read()\n",
    "    file = open(\"generation-projet-dev/give_cat-ingredients-oldP-newV-dev.txt\", \"r\")\n",
    "    give_cat = give_cat+\"\\n\"+file.read()\n",
    "    \n",
    "    file = open(\"generation-projet-dev/give_ingredients-newP-newV-dev.txt\", \"r\")\n",
    "    give_ing = file.read()\n",
    "    file = open(\"generation-projet-dev/give_ingredients-oldP-newV-dev.txt\", \"r\")\n",
    "    give_ing =give_ing+\"\\n\"+ file.read()\n",
    "    file = open(\"generation-projet-dev/give_ingredients-newP-oldV-dev.txt\", \"r\")\n",
    "    give_ing =give_ing+\"\\n\"+ file.read()\n",
    "    \n",
    "if ens == \"test\":\n",
    "    \n",
    "    file = open(\"generation-projet-test/askforreccplx-test.xml\", \"r\")\n",
    "    ask=file.read()\n",
    "    n1 = len(file.read().split(\"\\n\"))\n",
    "    file = open(\"generation-projet-test/ask_for_recipe-newP-newV-test.xml\", \"r\")\n",
    "    ask=ask+\"\\n\"+file.read()\n",
    "    n2 = len(file.read().split(\"\\n\"))\n",
    "    file = open(\"generation-projet-test/ask_for_recipe-oldP-newV-test.xml\", \"r\")\n",
    "    ask=ask+\"\\n\"+file.read()\n",
    "    n3 = len(file.read().split(\"\\n\"))\n",
    "    file = open(\"generation-projet-test/ask_for_recipe-newP-oldV-test.xml\", \"r\")\n",
    "    ask=ask+\"\\n\"+file.read()\n",
    "    n4 = len(file.read().split(\"\\n\"))\n",
    "    \n",
    "    file = open(\"generation-projet-test/give_cat-ingredients-newP-newV-test.xml\", \"r\")\n",
    "    give_cat = file.read()\n",
    "    n5 = len(file.read().split(\"\\n\"))\n",
    "    file = open(\"generation-projet-test/give_cat-ingredients-newP-oldV-test.xml\", \"r\")\n",
    "    give_cat = give_cat+\"\\n\"+file.read()\n",
    "    n6 = len(file.read().split(\"\\n\"))\n",
    "    file = open(\"generation-projet-test/give_cat-ingredients-oldP-newV-test.xml\", \"r\")\n",
    "    give_cat = give_cat+\"\\n\"+file.read()\n",
    "    n7 = len(file.read().split(\"\\n\"))\n",
    "             \n",
    "    file = open(\"generation-projet-test/give_ingredients-newP-newV-test.xml\", \"r\")\n",
    "    give_ing = file.read()\n",
    "    n8 = len(file.read().split(\"\\n\"))\n",
    "    file = open(\"generation-projet-test/give_ingredients-oldP-newV-test.xml\", \"r\")\n",
    "    give_ing =give_ing+\"\\n\"+ file.read()\n",
    "    n9 = len(file.read().split(\"\\n\"))\n",
    "    file = open(\"generation-projet-test/give_ingredients-newP-oldV-test.xml\", \"r\")\n",
    "    give_ing =give_ing+\"\\n\"+ file.read()\n",
    "    n10 = len(file.read().split(\"\\n\"))\n",
    "              \n",
    "    coeff_ask = (n1*4 + n2*2 + n3*2 + n4*2)/(n1+n2+n3+n4)\n",
    "    coeff_cat = (n5*4 + n6*4 + n7*2)/(n5+n6+n7)\n",
    "    coeff_ing = (n8*2 + n9*4 + n10*2)/(n8+n9+n10)\n",
    "\n",
    "\n",
    "ask_sen = ask.split(\"\\n\")\n",
    "ask_words = ask.replace(\"\\n\", \" \").split(\" \")\n",
    "print(\"nombre de phrases de requêtes : \" + str(len(ask_sen)))\n",
    "print(\"nombre de mots en moyenne par requete : \" + str(len(ask_words)/len(ask_sen) - coeff_ask))\n",
    "\n",
    "give_cat_sen = give_cat.split(\"\\n\")\n",
    "give_cat_words = give_cat.replace(\"\\n\", \" \").split(\" \")\n",
    "print(\"nombre de phrases sur les catégories d'ingrédients : \"+str(len(give_cat_sen)))\n",
    "print(\"nombre de mots en moyenne sur les catégories d'ingrédients : \" + str(len(give_cat_words)/len(give_cat_sen) - coeff_cat))\n",
    "\n",
    "give_ing_sen = give_ing.split(\"\\n\")\n",
    "give_ing_words = give_ing.replace(\"\\n\", \" \").split(\" \")\n",
    "print(\"nombre de phrases sur les ingrédients : \"+str(len(give_ing_sen)))\n",
    "print(\"nombre de mots en moyenne sur les ingrédients : \"+str(len(give_ing_words)/len(give_ing_sen) - coeff_ing))"
   ]
  },
  {
   "cell_type": "markdown",
   "metadata": {},
   "source": [
    "## Vocabulaire"
   ]
  },
  {
   "cell_type": "code",
   "execution_count": 84,
   "metadata": {},
   "outputs": [],
   "source": [
    "import operator\n",
    "\n",
    "#Chargement des données d'entraînement\n",
    "#On change de format pour ne garder que les mots pertinents\n",
    "\n",
    "if ens==\"trn\":\n",
    "    file = open(\"generation-projet-trn/ask_for_recipe-trn.bio\", \"r\") \n",
    "    ask = file.read()\n",
    "\n",
    "    file = open(\"generation-projet-trn/give_cat-ingredients-trn.bio\", \"r\")\n",
    "    give_cat = file.read()\n",
    "\n",
    "    file = open(\"generation-projet-trn/give_ingredients-trn.bio\", \"r\")\n",
    "    give_ing = file.read()\n",
    "    \n",
    "if ens==\"dev\":\n",
    "    file = open(\"generation-projet-dev/ask_for_recipe-newP-newV-dev.bio\", \"r\")\n",
    "    ask=file.read()\n",
    "    file = open(\"generation-projet-dev/ask_for_recipe-newP-oldV-dev.bio\", \"r\")\n",
    "    ask=ask+\"\\n\"+file.read()\n",
    "    file = open(\"generation-projet-dev/ask_for_recipe-oldP-newV-dev.bio\", \"r\")\n",
    "    ask=ask+\"\\n\"+file.read()\n",
    "    \n",
    "    file = open(\"generation-projet-dev/give_cat-ingredients-newP-newV-dev.bio\", \"r\")\n",
    "    give_cat = file.read()\n",
    "    file = open(\"generation-projet-dev/give_cat-ingredients-newP-oldV-dev.bio\", \"r\")\n",
    "    give_cat = give_cat+\"\\n\"+file.read()\n",
    "    file = open(\"generation-projet-dev/give_cat-ingredients-oldP-newV-dev.bio\", \"r\")\n",
    "    give_cat = give_cat+\"\\n\"+file.read()\n",
    "    \n",
    "    file = open(\"generation-projet-dev/give_ingredients-newP-newV-dev.bio\", \"r\")\n",
    "    give_ing = file.read()\n",
    "    file = open(\"generation-projet-dev/give_ingredients-oldP-newV-dev.bio\", \"r\")\n",
    "    give_ing =give_ing+\"\\n\"+ file.read()\n",
    "    file = open(\"generation-projet-dev/give_ingredients-newP-oldV-dev.bio\", \"r\")\n",
    "    give_ing =give_ing+\"\\n\"+ file.read()\n",
    "\n",
    "if ens == \"test\":\n",
    "    file = open(\"generation-projet-test/bio/ask_for_recipe-newP-newV-test.bio\", \"r\")\n",
    "    ask=file.read()\n",
    "    file = open(\"generation-projet-test/bio/ask_for_recipe-newP-oldV-test.bio\", \"r\")\n",
    "    ask=ask+\"\\n\"+file.read()\n",
    "    file = open(\"generation-projet-test/bio/ask_for_recipe-oldP-newV-test.bio\", \"r\")\n",
    "    ask=ask+\"\\n\"+file.read()\n",
    "    file = open(\"generation-projet-test/bio/askforreccplx-test.bio\", \"r\")\n",
    "    ask=ask+\"\\n\"+file.read()\n",
    "    \n",
    "    file = open(\"generation-projet-test/bio/give_cat-ingredients-newP-newV-test.bio\", \"r\")\n",
    "    give_cat = file.read()\n",
    "    file = open(\"generation-projet-test/bio/give_cat-ingredients-newP-oldV-test.bio\", \"r\")\n",
    "    give_cat = give_cat+\"\\n\"+file.read()\n",
    "    file = open(\"generation-projet-test/bio/give_cat-ingredients-oldP-newV-test.bio\", \"r\")\n",
    "    give_cat = give_cat+\"\\n\"+file.read()\n",
    "    \n",
    "    file = open(\"generation-projet-test/bio/give_ingredients-newP-newV-test.bio\", \"r\")\n",
    "    give_ing = file.read()\n",
    "    file = open(\"generation-projet-test/bio/give_ingredients-oldP-newV-test.bio\", \"r\")\n",
    "    give_ing =give_ing+\"\\n\"+ file.read()\n",
    "    file = open(\"generation-projet-test/bio/give_ingredients-newP-oldV-test.bio\", \"r\")\n",
    "    give_ing =give_ing+\"\\n\"+ file.read()\n",
    "\n",
    "\n",
    "def clean_txt(txt):\n",
    "    txt_i = []\n",
    "    txt_b = []\n",
    "    txt_sen = txt.split(\"\\n\")\n",
    "    for words in txt_sen:\n",
    "        w = words.split(\" \")\n",
    "        if (len(w)>1):\n",
    "            if w[1][0]==\"i\":\n",
    "                txt_i.append(w[0])\n",
    "            elif w[1][0]==\"b\":\n",
    "                txt_b.append(w[0])\n",
    "    return (txt_i, txt_b)\n",
    "    \n",
    "(ask_i, ask_b) = clean_txt(ask)\n",
    "(give_cat_i, give_cat_b) = clean_txt(give_cat)\n",
    "(give_ing_i, give_ing_b) = clean_txt(give_ing)"
   ]
  },
  {
   "cell_type": "code",
   "execution_count": 85,
   "metadata": {},
   "outputs": [],
   "source": [
    "def make_vocab (text_i, text_b):\n",
    "    vocab = dict()\n",
    "    vocab_i = dict()\n",
    "    vocab_b = dict()\n",
    "    for word in text_i:\n",
    "        if word in vocab_i.keys():\n",
    "            vocab[word] +=1\n",
    "            vocab_i[word]+=1\n",
    "        else:\n",
    "            vocab[word] = 1\n",
    "            vocab_i[word]=1\n",
    "    for word in text_b:\n",
    "        if word in vocab.keys():\n",
    "            vocab[word]+=1\n",
    "        else:\n",
    "            vocab[word]=1\n",
    "        if word in vocab_b.keys():\n",
    "            vocab_b[word] += 1\n",
    "        else:\n",
    "            vocab_b[word]=1\n",
    "    vocab = sorted(vocab.items(), key=operator.itemgetter(1), reverse=True)\n",
    "    vocab_i = sorted(vocab_i.items(), key=operator.itemgetter(1), reverse=True)\n",
    "    vocab_b = sorted(vocab_b.items(), key=operator.itemgetter(1), reverse=True)\n",
    "    \n",
    "    return (vocab, vocab_i, vocab_b)\n",
    "\n",
    "ask_voc, ask_voc_i, ask_voc_b = make_vocab(ask_i, ask_b)\n",
    "give_cat_voc, give_cat_voc_i, give_cat_voc_b = make_vocab(give_cat_i, give_cat_b)\n",
    "give_ing_voc, give_ing_voc_i, give_ing_voc_b = make_vocab(give_ing_i, give_ing_b)"
   ]
  },
  {
   "cell_type": "code",
   "execution_count": 86,
   "metadata": {},
   "outputs": [],
   "source": [
    "import itertools\n",
    "import collections\n",
    "\n",
    "def print_n_firs_words(voca, n):\n",
    "    d = collections.OrderedDict(voca)\n",
    "    x = itertools.islice(d.items(), 0, n)\n",
    "    for i in x:\n",
    "        print(i)"
   ]
  },
  {
   "cell_type": "markdown",
   "metadata": {},
   "source": [
    "## Requetes\n",
    "Vocabulaire général"
   ]
  },
  {
   "cell_type": "code",
   "execution_count": 87,
   "metadata": {},
   "outputs": [
    {
     "name": "stdout",
     "output_type": "stream",
     "text": [
      "taille du vocabulaire : 9491\n",
      "('de', 203313)\n",
      "('au', 140877)\n",
      "('et', 120868)\n",
      "('aux', 116402)\n",
      "('a', 95205)\n",
      "('la', 71467)\n",
      "('d', 31878)\n",
      "('tarte', 27742)\n",
      "('chocolat', 24156)\n",
      "('poulet', 23815)\n"
     ]
    }
   ],
   "source": [
    "print(\"taille du vocabulaire : \" + str(len(ask_voc)))\n",
    "print_n_firs_words(ask_voc,10)"
   ]
  },
  {
   "cell_type": "markdown",
   "metadata": {},
   "source": [
    "Vocabulaire de la catégorie b-recipe"
   ]
  },
  {
   "cell_type": "code",
   "execution_count": 88,
   "metadata": {},
   "outputs": [
    {
     "name": "stdout",
     "output_type": "stream",
     "text": [
      "taille du vocabulaire : 3378\n",
      "('tarte', 26598)\n",
      "('salade', 18777)\n",
      "('gateau', 17930)\n",
      "('gratin', 12463)\n",
      "('soupe', 10087)\n",
      "('poulet', 9944)\n",
      "('cake', 7524)\n",
      "('sauce', 5566)\n",
      "('quiche', 5511)\n",
      "('creme', 5137)\n"
     ]
    }
   ],
   "source": [
    "print(\"taille du vocabulaire : \" + str(len(ask_voc_b)))\n",
    "print_n_firs_words(ask_voc_b, 10)"
   ]
  },
  {
   "cell_type": "markdown",
   "metadata": {},
   "source": [
    "Vocabulaire de la catégorie i_recipe"
   ]
  },
  {
   "cell_type": "code",
   "execution_count": 89,
   "metadata": {},
   "outputs": [
    {
     "name": "stdout",
     "output_type": "stream",
     "text": [
      "taille du vocabulaire : 7759\n",
      "('de', 203302)\n",
      "('au', 140877)\n",
      "('et', 120868)\n",
      "('aux', 116402)\n",
      "('a', 95205)\n",
      "('la', 69432)\n",
      "('d', 31878)\n",
      "('chocolat', 23848)\n",
      "('l', 23265)\n",
      "('pommes', 19855)\n"
     ]
    }
   ],
   "source": [
    "print(\"taille du vocabulaire : \" + str(len(ask_voc_i)))\n",
    "print_n_firs_words(ask_voc_i, 10)"
   ]
  },
  {
   "cell_type": "markdown",
   "metadata": {},
   "source": [
    "## Requetes sur les categories d'ingrédients\n",
    "Vocabulaire général"
   ]
  },
  {
   "cell_type": "code",
   "execution_count": 90,
   "metadata": {},
   "outputs": [
    {
     "name": "stdout",
     "output_type": "stream",
     "text": [
      "taille du vocabulaire : 20\n",
      "('mer', 8)\n",
      "('de', 8)\n",
      "('fruits', 8)\n",
      "('viande', 4)\n",
      "('poisson', 4)\n",
      "('féculents', 4)\n",
      "('légumes', 4)\n",
      "('épices', 4)\n",
      "('fromage', 4)\n",
      "('charcuteries', 4)\n"
     ]
    }
   ],
   "source": [
    "print(\"taille du vocabulaire : \" + str(len(give_cat_voc)))\n",
    "print_n_firs_words(give_cat_voc, 10)"
   ]
  },
  {
   "cell_type": "markdown",
   "metadata": {},
   "source": [
    "Vocabulaire des catégories b-neg_cat-ingredient et b-cat-ingredient"
   ]
  },
  {
   "cell_type": "code",
   "execution_count": 91,
   "metadata": {},
   "outputs": [
    {
     "name": "stdout",
     "output_type": "stream",
     "text": [
      "taille du vocabulaire : 18\n",
      "('fruits', 8)\n",
      "('viande', 4)\n",
      "('poisson', 4)\n",
      "('féculents', 4)\n",
      "('légumes', 4)\n",
      "('épices', 4)\n",
      "('fromage', 4)\n",
      "('charcuteries', 4)\n",
      "('légume', 4)\n",
      "('fruit', 4)\n"
     ]
    }
   ],
   "source": [
    "print(\"taille du vocabulaire : \" + str(len(give_cat_voc_b)))\n",
    "print_n_firs_words(give_cat_voc_b, 10)"
   ]
  },
  {
   "cell_type": "markdown",
   "metadata": {},
   "source": [
    "Vocabulaire des catégories i-neg_cat-ingredient et i-cat-ingredient"
   ]
  },
  {
   "cell_type": "code",
   "execution_count": 92,
   "metadata": {},
   "outputs": [
    {
     "name": "stdout",
     "output_type": "stream",
     "text": [
      "taille du vocabulaire : 2\n",
      "('de', 8)\n",
      "('mer', 8)\n"
     ]
    }
   ],
   "source": [
    "print(\"taille du vocabulaire : \" + str(len(give_cat_voc_i)))\n",
    "print_n_firs_words(give_cat_voc_i,10)"
   ]
  },
  {
   "cell_type": "markdown",
   "metadata": {},
   "source": [
    "## Requetes sur les ingrédients\n",
    "Vocabulaire général"
   ]
  },
  {
   "cell_type": "code",
   "execution_count": 93,
   "metadata": {},
   "outputs": [
    {
     "name": "stdout",
     "output_type": "stream",
     "text": [
      "taille du vocabulaire : 1680\n",
      "('de', 435312)\n",
      "('blue', 84644)\n",
      "('du', 72552)\n",
      "('bleu', 42322)\n",
      "('moutarde', 42322)\n",
      "('abbaye', 36276)\n",
      "('di', 33253)\n",
      "('tomme', 30230)\n",
      "('pâte', 30230)\n",
      "('à', 27207)\n"
     ]
    }
   ],
   "source": [
    "print(\"taille du vocabulaire : \" + str(len(give_ing_voc)))\n",
    "print_n_firs_words(give_ing_voc,10)"
   ]
  },
  {
   "cell_type": "markdown",
   "metadata": {},
   "source": [
    "Vocabulaire de la catégorie b-neg_ingredient et b-ingredient"
   ]
  },
  {
   "cell_type": "code",
   "execution_count": 94,
   "metadata": {},
   "outputs": [
    {
     "name": "stdout",
     "output_type": "stream",
     "text": [
      "taille du vocabulaire : 1256\n",
      "('bleu', 39299)\n",
      "('abbaye', 36276)\n",
      "('moutarde', 36276)\n",
      "('tomme', 30230)\n",
      "('pâte', 30230)\n",
      "('chou', 27207)\n",
      "('pecorino', 24184)\n",
      "('petit', 18138)\n",
      "('blue', 15115)\n",
      "('cendré', 15115)\n"
     ]
    }
   ],
   "source": [
    "print(\"taille du vocabulaire : \" + str(len(give_ing_voc_b)))\n",
    "print_n_firs_words(give_ing_voc_b,10)"
   ]
  },
  {
   "cell_type": "markdown",
   "metadata": {},
   "source": [
    "Vocabulaire de la catégorie i-neg_ingredient et i-ingredient"
   ]
  },
  {
   "cell_type": "code",
   "execution_count": 95,
   "metadata": {},
   "outputs": [
    {
     "name": "stdout",
     "output_type": "stream",
     "text": [
      "taille du vocabulaire : 460\n",
      "('de', 435312)\n",
      "('du', 72552)\n",
      "('blue', 69529)\n",
      "('di', 33253)\n",
      "('à', 27207)\n",
      "('mer', 24184)\n",
      "('la', 21161)\n",
      "('des', 21161)\n",
      "('terre', 12092)\n",
      "('épices', 12092)\n"
     ]
    }
   ],
   "source": [
    "print(\"taille du vocabulaire : \" + str(len(give_ing_voc_i)))\n",
    "print_n_firs_words(give_ing_voc_i, 10)"
   ]
  }
 ],
 "metadata": {
  "kernelspec": {
   "display_name": "Python 3",
   "language": "python",
   "name": "python3"
  },
  "language_info": {
   "codemirror_mode": {
    "name": "ipython",
    "version": 3
   },
   "file_extension": ".py",
   "mimetype": "text/x-python",
   "name": "python",
   "nbconvert_exporter": "python",
   "pygments_lexer": "ipython3",
   "version": "3.5.2"
  }
 },
 "nbformat": 4,
 "nbformat_minor": 2
}
